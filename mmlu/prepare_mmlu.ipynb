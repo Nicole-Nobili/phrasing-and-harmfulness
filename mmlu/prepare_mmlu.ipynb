{
 "cells": [
  {
   "cell_type": "code",
   "execution_count": 1,
   "metadata": {},
   "outputs": [],
   "source": [
    "from datasets import load_dataset\n",
    "\n",
    "import pandas as pd\n",
    "import numpy as np\n",
    "from tqdm.auto import tqdm\n",
    "\n",
    "tqdm.pandas()"
   ]
  },
  {
   "cell_type": "code",
   "execution_count": 2,
   "metadata": {},
   "outputs": [],
   "source": [
    "def subject_filter(x, subjects):\n",
    "    if x['subject'] in subjects:\n",
    "        return True\n",
    "    else:\n",
    "        return False\n",
    "\n",
    "dataset = load_dataset(\"cais/mmlu\", \"all\")\n",
    "subjects = ['machine_learning', 'econometrics', 'abstract_algebra', 'professional_accounting', 'professional_medicine']\n",
    "\n",
    "filtered_dataset = dataset.filter(lambda x: subject_filter(x, subjects)).filter(lambda example: len(example[\"question\"]) < 128)\n",
    "\n",
    "sampled_dataset = filtered_dataset.shuffle(seed=42)['test'][:100]"
   ]
  },
  {
   "cell_type": "code",
   "execution_count": 20,
   "metadata": {},
   "outputs": [],
   "source": [
    "questions = np.array(sampled_dataset[\"question\"])\n",
    "choices = np.array(sampled_dataset[\"choices\"])\n",
    "answers = np.array(sampled_dataset[\"answer\"])\n",
    "\n",
    "data = {\"Original\": questions, \"Choice1\": choices[:, 0], \"Choice2\": choices[:, 1], \"Choice3\": choices[:, 2], \"Choice4\": choices[:, 3], 'Answer': answers}\n",
    "df = pd.DataFrame(data)\n",
    "\n",
    "df[['Choice1', 'Choice2', 'Choice3', 'Choice4', 'Answer', 'Original']].to_csv(\"mmlu_hard.csv\", index=False)"
   ]
  },
  {
   "cell_type": "markdown",
   "metadata": {},
   "source": [
    "## Conversions"
   ]
  },
  {
   "cell_type": "markdown",
   "metadata": {},
   "source": [
    "### Questions"
   ]
  },
  {
   "cell_type": "code",
   "execution_count": 7,
   "metadata": {},
   "outputs": [],
   "source": [
    "from openai import OpenAI\n",
    "from datasets import load_dataset\n",
    "\n",
    "import pandas as pd\n",
    "import numpy as np\n",
    "from tqdm.auto import tqdm\n",
    "\n",
    "tqdm.pandas()\n",
    "\n",
    "client = OpenAI(api_key=\"...\")"
   ]
  },
  {
   "cell_type": "code",
   "execution_count": 8,
   "metadata": {},
   "outputs": [
    {
     "data": {
      "text/html": [
       "<div>\n",
       "<style scoped>\n",
       "    .dataframe tbody tr th:only-of-type {\n",
       "        vertical-align: middle;\n",
       "    }\n",
       "\n",
       "    .dataframe tbody tr th {\n",
       "        vertical-align: top;\n",
       "    }\n",
       "\n",
       "    .dataframe thead th {\n",
       "        text-align: right;\n",
       "    }\n",
       "</style>\n",
       "<table border=\"1\" class=\"dataframe\">\n",
       "  <thead>\n",
       "    <tr style=\"text-align: right;\">\n",
       "      <th></th>\n",
       "      <th>Answer</th>\n",
       "      <th>Original</th>\n",
       "      <th>Interrogative</th>\n",
       "      <th>Declarative</th>\n",
       "      <th>Choice1</th>\n",
       "      <th>Choice2</th>\n",
       "      <th>Choice3</th>\n",
       "      <th>Choice4</th>\n",
       "    </tr>\n",
       "  </thead>\n",
       "  <tbody>\n",
       "    <tr>\n",
       "      <th>0</th>\n",
       "      <td>2</td>\n",
       "      <td>Find the number of elements in the indicated c...</td>\n",
       "      <td>What's the number of elements in the cyclic su...</td>\n",
       "      <td>The number of elements in the cyclic subgroup ...</td>\n",
       "      <td>25</td>\n",
       "      <td>5</td>\n",
       "      <td>6</td>\n",
       "      <td>30</td>\n",
       "    </tr>\n",
       "    <tr>\n",
       "      <th>1</th>\n",
       "      <td>0</td>\n",
       "      <td>Find the order of the factor group (Z_11 x Z_1...</td>\n",
       "      <td>Which is the order of the factor group (Z_11 x...</td>\n",
       "      <td>The order of the factor group (Z_11 x Z_15)/(&lt;...</td>\n",
       "      <td>1</td>\n",
       "      <td>2</td>\n",
       "      <td>5</td>\n",
       "      <td>11</td>\n",
       "    </tr>\n",
       "    <tr>\n",
       "      <th>2</th>\n",
       "      <td>2</td>\n",
       "      <td>A project should be accepted if the present va...</td>\n",
       "      <td>How should the present value of cash flows of ...</td>\n",
       "      <td>To be accepted, the present value of cash flow...</td>\n",
       "      <td>Equal to the initial investment.</td>\n",
       "      <td>Less than the initial investment.</td>\n",
       "      <td>Greater than the initial investment.</td>\n",
       "      <td>Equal to zero.</td>\n",
       "    </tr>\n",
       "    <tr>\n",
       "      <th>3</th>\n",
       "      <td>0</td>\n",
       "      <td>Which of the following is correct concerning l...</td>\n",
       "      <td>Which of the following is correct concerning l...</td>\n",
       "      <td>Which of the following is correct concerning l...</td>\n",
       "      <td>They use a different method of transforming th...</td>\n",
       "      <td>The logit model can result in too many observa...</td>\n",
       "      <td>For the logit model, the marginal effect of a ...</td>\n",
       "      <td>The probit model is based on a cumulative logi...</td>\n",
       "    </tr>\n",
       "    <tr>\n",
       "      <th>4</th>\n",
       "      <td>2</td>\n",
       "      <td>What is the price of a five-year bond (face va...</td>\n",
       "      <td>What is the price of a five-year bond (face va...</td>\n",
       "      <td>What is the price of a five-year bond (face va...</td>\n",
       "      <td>$100</td>\n",
       "      <td>$85</td>\n",
       "      <td>$82</td>\n",
       "      <td>$75</td>\n",
       "    </tr>\n",
       "  </tbody>\n",
       "</table>\n",
       "</div>"
      ],
      "text/plain": [
       "   Answer                                           Original  \\\n",
       "0       2  Find the number of elements in the indicated c...   \n",
       "1       0  Find the order of the factor group (Z_11 x Z_1...   \n",
       "2       2  A project should be accepted if the present va...   \n",
       "3       0  Which of the following is correct concerning l...   \n",
       "4       2  What is the price of a five-year bond (face va...   \n",
       "\n",
       "                                       Interrogative  \\\n",
       "0  What's the number of elements in the cyclic su...   \n",
       "1  Which is the order of the factor group (Z_11 x...   \n",
       "2  How should the present value of cash flows of ...   \n",
       "3  Which of the following is correct concerning l...   \n",
       "4  What is the price of a five-year bond (face va...   \n",
       "\n",
       "                                         Declarative  \\\n",
       "0  The number of elements in the cyclic subgroup ...   \n",
       "1  The order of the factor group (Z_11 x Z_15)/(<...   \n",
       "2  To be accepted, the present value of cash flow...   \n",
       "3  Which of the following is correct concerning l...   \n",
       "4  What is the price of a five-year bond (face va...   \n",
       "\n",
       "                                             Choice1  \\\n",
       "0                                                 25   \n",
       "1                                                  1   \n",
       "2                   Equal to the initial investment.   \n",
       "3  They use a different method of transforming th...   \n",
       "4                                               $100   \n",
       "\n",
       "                                             Choice2  \\\n",
       "0                                                  5   \n",
       "1                                                  2   \n",
       "2                  Less than the initial investment.   \n",
       "3  The logit model can result in too many observa...   \n",
       "4                                                $85   \n",
       "\n",
       "                                             Choice3  \\\n",
       "0                                                  6   \n",
       "1                                                  5   \n",
       "2               Greater than the initial investment.   \n",
       "3  For the logit model, the marginal effect of a ...   \n",
       "4                                                $82   \n",
       "\n",
       "                                             Choice4  \n",
       "0                                                 30  \n",
       "1                                                 11  \n",
       "2                                     Equal to zero.  \n",
       "3  The probit model is based on a cumulative logi...  \n",
       "4                                                $75  "
      ]
     },
     "execution_count": 8,
     "metadata": {},
     "output_type": "execute_result"
    }
   ],
   "source": [
    "mmlu_hard = pd.read_csv('data/mmlu_hard.csv')\n",
    "mmlu_hard.head()"
   ]
  },
  {
   "cell_type": "code",
   "execution_count": 9,
   "metadata": {},
   "outputs": [
    {
     "data": {
      "application/vnd.jupyter.widget-view+json": {
       "model_id": "7b5e470b603e4b73a88fba819a496a2e",
       "version_major": 2,
       "version_minor": 0
      },
      "text/plain": [
       "  0%|          | 0/100 [00:00<?, ?it/s]"
      ]
     },
     "metadata": {},
     "output_type": "display_data"
    }
   ],
   "source": [
    "def convert_mmlu(row):\n",
    "\n",
    "    response = client.chat.completions.create(\n",
    "        model=\"gpt-4-turbo-preview\",\n",
    "        messages=[\n",
    "            {\n",
    "            \"role\": \"system\",\n",
    "            \"content\": \"Do the following conversions from question to indicatives.\\n\\nSENTENCE: What's the number of elements in the cyclic subgroup of Z_30 generated by 25?\\nCONVERTED: The number of elements in the cyclic subgroup of Z_30 generated by 25 is\\n\\nSENTENCE: Which is the order of the factor group (Z_11 x Z_15)/(<1, 1>)?\\nCONVERTED: The order of the factor group (Z_11 x Z_15)/(<1, 1>) is\\n\\nSENTENCE: How should the present value of cash flows of a project be to be accepted?\\nCONVERTED: To be accepted, the present value of cash flows of a project should be\\n\\nDon't answer, just do the conversion!\\n\\n\\n\\n\\n\\n\\n\"\n",
    "            },\n",
    "            {\n",
    "            \"role\": \"user\",\n",
    "            \"content\": f\"SENTENCE: {row}\"\n",
    "            }\n",
    "        ],\n",
    "        temperature=0,\n",
    "        max_tokens=64,\n",
    "        top_p=0.3,\n",
    "        frequency_penalty=0,\n",
    "        presence_penalty=0\n",
    "        )\n",
    "\n",
    "    return response.choices[0].message.content\n",
    "\n",
    "mmlu_hard['Declarative'] = mmlu_hard['Interrogative'].progress_apply(convert_mmlu)"
   ]
  },
  {
   "cell_type": "code",
   "execution_count": 14,
   "metadata": {},
   "outputs": [
    {
     "data": {
      "application/vnd.jupyter.widget-view+json": {
       "model_id": "370c4737d756413ba3d3b1c2b8be3147",
       "version_major": 2,
       "version_minor": 0
      },
      "text/plain": [
       "  0%|          | 0/100 [00:00<?, ?it/s]"
      ]
     },
     "metadata": {},
     "output_type": "display_data"
    }
   ],
   "source": [
    "def convert_mmlu(row):\n",
    "\n",
    "    response = client.chat.completions.create(\n",
    "        model=\"gpt-4-turbo-preview\",\n",
    "        messages=[\n",
    "            {\n",
    "            \"role\": \"system\",\n",
    "            \"content\": \"Do the following conversions from question to indicatives.\\n\\nSENTENCE: What's the number of elements in the cyclic subgroup of Z_30 generated by 25?\\nCONVERTED: Identify the number of elements in the cyclic subgroup of Z_30 generated by 25.\\n\\nSENTENCE:  What's the order of the factor group (Z_11 x Z_15)/(<1, 1>)?\\nCONVERTED: Pick the order of the factor group (Z_11 x Z_15)/(<1, 1>).\\n\\nSENTENCE: How should the present value of cash flows of a project be to be accepted?\\nCONVERTED: Choose how the present value of cash flows of a project should be to be accepted.\\n\\nDon't answer, just do the conversion!\\n\\n\\n\\n\\n\\n\\n\"\n",
    "            },\n",
    "            {\n",
    "            \"role\": \"user\",\n",
    "            \"content\": f\"SENTENCE: {row}\"\n",
    "            }\n",
    "        ],\n",
    "        temperature=0,\n",
    "        max_tokens=32,\n",
    "        top_p=0.3,\n",
    "        frequency_penalty=0,\n",
    "        presence_penalty=0\n",
    "        )\n",
    "\n",
    "    return response.choices[0].message.content\n",
    "\n",
    "mmlu_hard['Imperative'] = mmlu_hard['Interrogative'].progress_apply(convert_mmlu)"
   ]
  },
  {
   "cell_type": "code",
   "execution_count": 15,
   "metadata": {},
   "outputs": [],
   "source": [
    "mmlu_hard['Declarative'] = mmlu_hard['Declarative'].apply(lambda x: x.split(\"CONVERTED: \")[-1])\n",
    "mmlu_hard['Imperative'] = mmlu_hard['Imperative'].apply(lambda x: x.split(\"CONVERTED: \")[-1])"
   ]
  },
  {
   "cell_type": "code",
   "execution_count": 16,
   "metadata": {},
   "outputs": [],
   "source": [
    "mmlu_hard.to_csv(\"data/mmlu_hard_conv.csv\", index=False)"
   ]
  }
 ],
 "metadata": {
  "kernelspec": {
   "display_name": "Python 3",
   "language": "python",
   "name": "python3"
  },
  "language_info": {
   "codemirror_mode": {
    "name": "ipython",
    "version": 3
   },
   "file_extension": ".py",
   "mimetype": "text/x-python",
   "name": "python",
   "nbconvert_exporter": "python",
   "pygments_lexer": "ipython3",
   "version": "3.11.5"
  }
 },
 "nbformat": 4,
 "nbformat_minor": 2
}
