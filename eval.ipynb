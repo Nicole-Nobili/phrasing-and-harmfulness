{
 "cells": [
  {
   "cell_type": "markdown",
   "metadata": {},
   "source": [
    "# Evaluation"
   ]
  },
  {
   "cell_type": "markdown",
   "metadata": {},
   "source": [
    "## Evaluation Datasets\n",
    "\n",
    "The evaluation datasets chosen for this study are: *MaliciousInstructions* and *XSTest*\n",
    "We want to build 9 versions of each of them by converting them into the couples coming from all the combinations between:\n",
    "- Interrogative, Declarative, and Imperative as sentence **types**.\n",
    "- Question, Command, and Threat as sentence **forces**.\n",
    "\n",
    "Let's first load the raw data."
   ]
  },
  {
   "cell_type": "code",
   "execution_count": 36,
   "metadata": {},
   "outputs": [],
   "source": [
    "# Data loading\n",
    "import pandas as pd\n",
    "\n",
    "mal_inst = pd.read_json('data/MaliciousInstructions.json')\n",
    "xstest = pd.read_json('data/XSTest.json')"
   ]
  }
 ],
 "metadata": {
  "kernelspec": {
   "display_name": "base",
   "language": "python",
   "name": "python3"
  },
  "language_info": {
   "codemirror_mode": {
    "name": "ipython",
    "version": 3
   },
   "file_extension": ".py",
   "mimetype": "text/x-python",
   "name": "python",
   "nbconvert_exporter": "python",
   "pygments_lexer": "ipython3",
   "version": "3.11.5"
  }
 },
 "nbformat": 4,
 "nbformat_minor": 2
}
